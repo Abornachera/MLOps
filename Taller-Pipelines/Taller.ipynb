{
  "nbformat": 4,
  "nbformat_minor": 0,
  "metadata": {
    "colab": {
      "provenance": []
    },
    "kernelspec": {
      "name": "python3",
      "display_name": "Python 3"
    },
    "language_info": {
      "name": "python"
    }
  },
  "cells": [
    {
      "cell_type": "markdown",
      "source": [
        "# Taller pipelines usando el dataset Iris Sucio\n",
        "\n",
        "#### Grupo:\n",
        "* Anderson Bornachera\n",
        "* Juan Mosquera"
      ],
      "metadata": {
        "id": "bDXnfD_n2jLz"
      }
    },
    {
      "cell_type": "markdown",
      "source": [
        "## Carga del dataset"
      ],
      "metadata": {
        "id": "M_ayt8tt2tBf"
      }
    },
    {
      "cell_type": "code",
      "execution_count": 1,
      "metadata": {
        "colab": {
          "base_uri": "https://localhost:8080/",
          "height": 206
        },
        "id": "RdWA7ka_B2DH",
        "outputId": "2c740fcd-e56f-4d39-b791-1a2ed0a3cf15"
      },
      "outputs": [
        {
          "output_type": "execute_result",
          "data": {
            "text/plain": [
              "   Unnamed: 0  Sepal.Length  Sepal.Width  Petal.Length  Petal.Width Species\n",
              "0           1           5.1          3.5           1.4          0.2  Setosa\n",
              "1           2           4.9          3.0           1.4          0.2  setosa\n",
              "2           3           4.7          3.2           1.3          0.2  setosa\n",
              "3           4           4.6          3.1           1.5          0.2  setosa\n",
              "4           5           NaN          3.6           1.4          0.2  setosa"
            ],
            "text/html": [
              "\n",
              "  <div id=\"df-ec02c28f-ddfb-44c0-a231-9fa322c8f606\" class=\"colab-df-container\">\n",
              "    <div>\n",
              "<style scoped>\n",
              "    .dataframe tbody tr th:only-of-type {\n",
              "        vertical-align: middle;\n",
              "    }\n",
              "\n",
              "    .dataframe tbody tr th {\n",
              "        vertical-align: top;\n",
              "    }\n",
              "\n",
              "    .dataframe thead th {\n",
              "        text-align: right;\n",
              "    }\n",
              "</style>\n",
              "<table border=\"1\" class=\"dataframe\">\n",
              "  <thead>\n",
              "    <tr style=\"text-align: right;\">\n",
              "      <th></th>\n",
              "      <th>Unnamed: 0</th>\n",
              "      <th>Sepal.Length</th>\n",
              "      <th>Sepal.Width</th>\n",
              "      <th>Petal.Length</th>\n",
              "      <th>Petal.Width</th>\n",
              "      <th>Species</th>\n",
              "    </tr>\n",
              "  </thead>\n",
              "  <tbody>\n",
              "    <tr>\n",
              "      <th>0</th>\n",
              "      <td>1</td>\n",
              "      <td>5.1</td>\n",
              "      <td>3.5</td>\n",
              "      <td>1.4</td>\n",
              "      <td>0.2</td>\n",
              "      <td>Setosa</td>\n",
              "    </tr>\n",
              "    <tr>\n",
              "      <th>1</th>\n",
              "      <td>2</td>\n",
              "      <td>4.9</td>\n",
              "      <td>3.0</td>\n",
              "      <td>1.4</td>\n",
              "      <td>0.2</td>\n",
              "      <td>setosa</td>\n",
              "    </tr>\n",
              "    <tr>\n",
              "      <th>2</th>\n",
              "      <td>3</td>\n",
              "      <td>4.7</td>\n",
              "      <td>3.2</td>\n",
              "      <td>1.3</td>\n",
              "      <td>0.2</td>\n",
              "      <td>setosa</td>\n",
              "    </tr>\n",
              "    <tr>\n",
              "      <th>3</th>\n",
              "      <td>4</td>\n",
              "      <td>4.6</td>\n",
              "      <td>3.1</td>\n",
              "      <td>1.5</td>\n",
              "      <td>0.2</td>\n",
              "      <td>setosa</td>\n",
              "    </tr>\n",
              "    <tr>\n",
              "      <th>4</th>\n",
              "      <td>5</td>\n",
              "      <td>NaN</td>\n",
              "      <td>3.6</td>\n",
              "      <td>1.4</td>\n",
              "      <td>0.2</td>\n",
              "      <td>setosa</td>\n",
              "    </tr>\n",
              "  </tbody>\n",
              "</table>\n",
              "</div>\n",
              "    <div class=\"colab-df-buttons\">\n",
              "\n",
              "  <div class=\"colab-df-container\">\n",
              "    <button class=\"colab-df-convert\" onclick=\"convertToInteractive('df-ec02c28f-ddfb-44c0-a231-9fa322c8f606')\"\n",
              "            title=\"Convert this dataframe to an interactive table.\"\n",
              "            style=\"display:none;\">\n",
              "\n",
              "  <svg xmlns=\"http://www.w3.org/2000/svg\" height=\"24px\" viewBox=\"0 -960 960 960\">\n",
              "    <path d=\"M120-120v-720h720v720H120Zm60-500h600v-160H180v160Zm220 220h160v-160H400v160Zm0 220h160v-160H400v160ZM180-400h160v-160H180v160Zm440 0h160v-160H620v160ZM180-180h160v-160H180v160Zm440 0h160v-160H620v160Z\"/>\n",
              "  </svg>\n",
              "    </button>\n",
              "\n",
              "  <style>\n",
              "    .colab-df-container {\n",
              "      display:flex;\n",
              "      gap: 12px;\n",
              "    }\n",
              "\n",
              "    .colab-df-convert {\n",
              "      background-color: #E8F0FE;\n",
              "      border: none;\n",
              "      border-radius: 50%;\n",
              "      cursor: pointer;\n",
              "      display: none;\n",
              "      fill: #1967D2;\n",
              "      height: 32px;\n",
              "      padding: 0 0 0 0;\n",
              "      width: 32px;\n",
              "    }\n",
              "\n",
              "    .colab-df-convert:hover {\n",
              "      background-color: #E2EBFA;\n",
              "      box-shadow: 0px 1px 2px rgba(60, 64, 67, 0.3), 0px 1px 3px 1px rgba(60, 64, 67, 0.15);\n",
              "      fill: #174EA6;\n",
              "    }\n",
              "\n",
              "    .colab-df-buttons div {\n",
              "      margin-bottom: 4px;\n",
              "    }\n",
              "\n",
              "    [theme=dark] .colab-df-convert {\n",
              "      background-color: #3B4455;\n",
              "      fill: #D2E3FC;\n",
              "    }\n",
              "\n",
              "    [theme=dark] .colab-df-convert:hover {\n",
              "      background-color: #434B5C;\n",
              "      box-shadow: 0px 1px 3px 1px rgba(0, 0, 0, 0.15);\n",
              "      filter: drop-shadow(0px 1px 2px rgba(0, 0, 0, 0.3));\n",
              "      fill: #FFFFFF;\n",
              "    }\n",
              "  </style>\n",
              "\n",
              "    <script>\n",
              "      const buttonEl =\n",
              "        document.querySelector('#df-ec02c28f-ddfb-44c0-a231-9fa322c8f606 button.colab-df-convert');\n",
              "      buttonEl.style.display =\n",
              "        google.colab.kernel.accessAllowed ? 'block' : 'none';\n",
              "\n",
              "      async function convertToInteractive(key) {\n",
              "        const element = document.querySelector('#df-ec02c28f-ddfb-44c0-a231-9fa322c8f606');\n",
              "        const dataTable =\n",
              "          await google.colab.kernel.invokeFunction('convertToInteractive',\n",
              "                                                    [key], {});\n",
              "        if (!dataTable) return;\n",
              "\n",
              "        const docLinkHtml = 'Like what you see? Visit the ' +\n",
              "          '<a target=\"_blank\" href=https://colab.research.google.com/notebooks/data_table.ipynb>data table notebook</a>'\n",
              "          + ' to learn more about interactive tables.';\n",
              "        element.innerHTML = '';\n",
              "        dataTable['output_type'] = 'display_data';\n",
              "        await google.colab.output.renderOutput(dataTable, element);\n",
              "        const docLink = document.createElement('div');\n",
              "        docLink.innerHTML = docLinkHtml;\n",
              "        element.appendChild(docLink);\n",
              "      }\n",
              "    </script>\n",
              "  </div>\n",
              "\n",
              "\n",
              "    <div id=\"df-b535c2ec-c05a-4d80-839a-a040ca1807cb\">\n",
              "      <button class=\"colab-df-quickchart\" onclick=\"quickchart('df-b535c2ec-c05a-4d80-839a-a040ca1807cb')\"\n",
              "                title=\"Suggest charts\"\n",
              "                style=\"display:none;\">\n",
              "\n",
              "<svg xmlns=\"http://www.w3.org/2000/svg\" height=\"24px\"viewBox=\"0 0 24 24\"\n",
              "     width=\"24px\">\n",
              "    <g>\n",
              "        <path d=\"M19 3H5c-1.1 0-2 .9-2 2v14c0 1.1.9 2 2 2h14c1.1 0 2-.9 2-2V5c0-1.1-.9-2-2-2zM9 17H7v-7h2v7zm4 0h-2V7h2v10zm4 0h-2v-4h2v4z\"/>\n",
              "    </g>\n",
              "</svg>\n",
              "      </button>\n",
              "\n",
              "<style>\n",
              "  .colab-df-quickchart {\n",
              "      --bg-color: #E8F0FE;\n",
              "      --fill-color: #1967D2;\n",
              "      --hover-bg-color: #E2EBFA;\n",
              "      --hover-fill-color: #174EA6;\n",
              "      --disabled-fill-color: #AAA;\n",
              "      --disabled-bg-color: #DDD;\n",
              "  }\n",
              "\n",
              "  [theme=dark] .colab-df-quickchart {\n",
              "      --bg-color: #3B4455;\n",
              "      --fill-color: #D2E3FC;\n",
              "      --hover-bg-color: #434B5C;\n",
              "      --hover-fill-color: #FFFFFF;\n",
              "      --disabled-bg-color: #3B4455;\n",
              "      --disabled-fill-color: #666;\n",
              "  }\n",
              "\n",
              "  .colab-df-quickchart {\n",
              "    background-color: var(--bg-color);\n",
              "    border: none;\n",
              "    border-radius: 50%;\n",
              "    cursor: pointer;\n",
              "    display: none;\n",
              "    fill: var(--fill-color);\n",
              "    height: 32px;\n",
              "    padding: 0;\n",
              "    width: 32px;\n",
              "  }\n",
              "\n",
              "  .colab-df-quickchart:hover {\n",
              "    background-color: var(--hover-bg-color);\n",
              "    box-shadow: 0 1px 2px rgba(60, 64, 67, 0.3), 0 1px 3px 1px rgba(60, 64, 67, 0.15);\n",
              "    fill: var(--button-hover-fill-color);\n",
              "  }\n",
              "\n",
              "  .colab-df-quickchart-complete:disabled,\n",
              "  .colab-df-quickchart-complete:disabled:hover {\n",
              "    background-color: var(--disabled-bg-color);\n",
              "    fill: var(--disabled-fill-color);\n",
              "    box-shadow: none;\n",
              "  }\n",
              "\n",
              "  .colab-df-spinner {\n",
              "    border: 2px solid var(--fill-color);\n",
              "    border-color: transparent;\n",
              "    border-bottom-color: var(--fill-color);\n",
              "    animation:\n",
              "      spin 1s steps(1) infinite;\n",
              "  }\n",
              "\n",
              "  @keyframes spin {\n",
              "    0% {\n",
              "      border-color: transparent;\n",
              "      border-bottom-color: var(--fill-color);\n",
              "      border-left-color: var(--fill-color);\n",
              "    }\n",
              "    20% {\n",
              "      border-color: transparent;\n",
              "      border-left-color: var(--fill-color);\n",
              "      border-top-color: var(--fill-color);\n",
              "    }\n",
              "    30% {\n",
              "      border-color: transparent;\n",
              "      border-left-color: var(--fill-color);\n",
              "      border-top-color: var(--fill-color);\n",
              "      border-right-color: var(--fill-color);\n",
              "    }\n",
              "    40% {\n",
              "      border-color: transparent;\n",
              "      border-right-color: var(--fill-color);\n",
              "      border-top-color: var(--fill-color);\n",
              "    }\n",
              "    60% {\n",
              "      border-color: transparent;\n",
              "      border-right-color: var(--fill-color);\n",
              "    }\n",
              "    80% {\n",
              "      border-color: transparent;\n",
              "      border-right-color: var(--fill-color);\n",
              "      border-bottom-color: var(--fill-color);\n",
              "    }\n",
              "    90% {\n",
              "      border-color: transparent;\n",
              "      border-bottom-color: var(--fill-color);\n",
              "    }\n",
              "  }\n",
              "</style>\n",
              "\n",
              "      <script>\n",
              "        async function quickchart(key) {\n",
              "          const quickchartButtonEl =\n",
              "            document.querySelector('#' + key + ' button');\n",
              "          quickchartButtonEl.disabled = true;  // To prevent multiple clicks.\n",
              "          quickchartButtonEl.classList.add('colab-df-spinner');\n",
              "          try {\n",
              "            const charts = await google.colab.kernel.invokeFunction(\n",
              "                'suggestCharts', [key], {});\n",
              "          } catch (error) {\n",
              "            console.error('Error during call to suggestCharts:', error);\n",
              "          }\n",
              "          quickchartButtonEl.classList.remove('colab-df-spinner');\n",
              "          quickchartButtonEl.classList.add('colab-df-quickchart-complete');\n",
              "        }\n",
              "        (() => {\n",
              "          let quickchartButtonEl =\n",
              "            document.querySelector('#df-b535c2ec-c05a-4d80-839a-a040ca1807cb button');\n",
              "          quickchartButtonEl.style.display =\n",
              "            google.colab.kernel.accessAllowed ? 'block' : 'none';\n",
              "        })();\n",
              "      </script>\n",
              "    </div>\n",
              "\n",
              "    </div>\n",
              "  </div>\n"
            ],
            "application/vnd.google.colaboratory.intrinsic+json": {
              "type": "dataframe",
              "variable_name": "df",
              "summary": "{\n  \"name\": \"df\",\n  \"rows\": 150,\n  \"fields\": [\n    {\n      \"column\": \"Unnamed: 0\",\n      \"properties\": {\n        \"dtype\": \"number\",\n        \"std\": 43,\n        \"min\": 1,\n        \"max\": 150,\n        \"num_unique_values\": 150,\n        \"samples\": [\n          74,\n          19,\n          119\n        ],\n        \"semantic_type\": \"\",\n        \"description\": \"\"\n      }\n    },\n    {\n      \"column\": \"Sepal.Length\",\n      \"properties\": {\n        \"dtype\": \"number\",\n        \"std\": 0.8319045788123336,\n        \"min\": 4.3,\n        \"max\": 7.9,\n        \"num_unique_values\": 35,\n        \"samples\": [\n          6.2,\n          4.5,\n          5.6\n        ],\n        \"semantic_type\": \"\",\n        \"description\": \"\"\n      }\n    },\n    {\n      \"column\": \"Sepal.Width\",\n      \"properties\": {\n        \"dtype\": \"number\",\n        \"std\": 0.4385500417155711,\n        \"min\": 2.0,\n        \"max\": 4.4,\n        \"num_unique_values\": 23,\n        \"samples\": [\n          2.3,\n          4.4,\n          3.5\n        ],\n        \"semantic_type\": \"\",\n        \"description\": \"\"\n      }\n    },\n    {\n      \"column\": \"Petal.Length\",\n      \"properties\": {\n        \"dtype\": \"number\",\n        \"std\": 1.7652982332594667,\n        \"min\": 1.0,\n        \"max\": 6.9,\n        \"num_unique_values\": 43,\n        \"samples\": [\n          6.7,\n          3.8,\n          3.7\n        ],\n        \"semantic_type\": \"\",\n        \"description\": \"\"\n      }\n    },\n    {\n      \"column\": \"Petal.Width\",\n      \"properties\": {\n        \"dtype\": \"number\",\n        \"std\": 0.7622376689603465,\n        \"min\": 0.1,\n        \"max\": 2.5,\n        \"num_unique_values\": 22,\n        \"samples\": [\n          0.2,\n          1.2,\n          1.3\n        ],\n        \"semantic_type\": \"\",\n        \"description\": \"\"\n      }\n    },\n    {\n      \"column\": \"Species\",\n      \"properties\": {\n        \"dtype\": \"category\",\n        \"num_unique_values\": 8,\n        \"samples\": [\n          \"setosa\",\n          \"VERSICOLOR\",\n          \"Setosa\"\n        ],\n        \"semantic_type\": \"\",\n        \"description\": \"\"\n      }\n    }\n  ]\n}"
            }
          },
          "metadata": {},
          "execution_count": 1
        }
      ],
      "source": [
        "import pandas as pd\n",
        "df = pd.read_csv(\"https://drive.google.com/uc?export=download&id=1Po5q73bcltZ48HQm_ZUwi2LLehxShGzW\")\n",
        "df.head()"
      ]
    },
    {
      "cell_type": "markdown",
      "source": [
        "## Convertimos los nombres de las columnas a snake case."
      ],
      "metadata": {
        "id": "WJ0v-xA53EmH"
      }
    },
    {
      "cell_type": "code",
      "source": [
        "import re\n",
        "def to_snake(s):\n",
        "    s = re.sub(r\"[^0-9a-zA-Z]+\", \"_\", s.strip())\n",
        "    return s.lower()"
      ],
      "metadata": {
        "id": "047616P2Cjqh"
      },
      "execution_count": 2,
      "outputs": []
    },
    {
      "cell_type": "markdown",
      "source": [
        "## Estandarizamos las especies a texto en minúsculas."
      ],
      "metadata": {
        "id": "w36PZ4CN3V6g"
      }
    },
    {
      "cell_type": "code",
      "source": [
        "import re\n",
        "def species_to_lower(df):\n",
        "  df['species'] = df['species'].str.lower()\n",
        "  return df"
      ],
      "metadata": {
        "id": "oAEd7cwLCwbg"
      },
      "execution_count": 3,
      "outputs": []
    },
    {
      "cell_type": "markdown",
      "source": [
        "## Definimos un transformador personalizado para scikit-learn llamado `CustomDataCleaner`.  \n",
        "Su función es:  \n",
        "1. Copiar el DataFrame original para no modificarlo `X.copy()`.  \n",
        "2. Convertir los nombres de las columnas a `snake_case`.  \n",
        "3. Pasar a minúsculas los valores de la columna `species`.  \n",
        "\n",
        "De esta forma, la limpieza de datos puede integrarse fácilmente en un pipeline.\n",
        "Usamos el pipeline con la variable `custom_cleaner`."
      ],
      "metadata": {
        "id": "1PO6RDuO4cSB"
      }
    },
    {
      "cell_type": "code",
      "source": [
        "from sklearn.base import BaseEstimator, TransformerMixin\n",
        "\n",
        "class CustomDataCleaner(BaseEstimator, TransformerMixin):\n",
        "\n",
        "    def __init__(self):\n",
        "        pass\n",
        "\n",
        "    def fit(self, X, y=None):\n",
        "        return self\n",
        "\n",
        "    def transform(self, X):\n",
        "        # 1\n",
        "        df = X.copy()\n",
        "        # 2\n",
        "        df.columns = [to_snake(col) for col in df.columns]\n",
        "        # 3\n",
        "        df = species_to_lower(df)\n",
        "\n",
        "\n",
        "        return df\n",
        "\n",
        "custom_cleaner = CustomDataCleaner()"
      ],
      "metadata": {
        "id": "Mh-TEVLXDNyR"
      },
      "execution_count": 4,
      "outputs": []
    },
    {
      "cell_type": "markdown",
      "source": [
        "## Separamos los datos numéricos y categorizamos las especies."
      ],
      "metadata": {
        "id": "JlzfJhe64nxZ"
      }
    },
    {
      "cell_type": "code",
      "source": [
        "numeric_features = ['sepal_length', 'sepal_width', 'petal_length', 'petal_width']\n",
        "categorical_features = ['species']"
      ],
      "metadata": {
        "id": "YXMnNR1IG1YI"
      },
      "execution_count": 5,
      "outputs": []
    },
    {
      "cell_type": "markdown",
      "source": [
        "## Se define un pipeline para variables numéricas (`numeric_pipeline`) que:  \n",
        "1. Imputa valores faltantes con la media (`SimpleImputer(strategy='mean')`).  \n",
        "2. Escala los datos con `StandardScaler()`."
      ],
      "metadata": {
        "id": "SvEzvTgi5l8t"
      }
    },
    {
      "cell_type": "code",
      "source": [
        "from sklearn.pipeline import Pipeline\n",
        "from sklearn.preprocessing import StandardScaler, OneHotEncoder,LabelEncoder\n",
        "from sklearn.impute import SimpleImputer\n",
        "\n",
        "numeric_pipeline = Pipeline([\n",
        "    ('imputer', SimpleImputer(strategy='mean')),\n",
        "    ('scaler', StandardScaler())\n",
        "])"
      ],
      "metadata": {
        "id": "4G0A4NWfDynI"
      },
      "execution_count": 6,
      "outputs": []
    },
    {
      "cell_type": "markdown",
      "source": [
        "## Se define un pipeline para variables categóricas (`categorical_pipeline`) que:  \n",
        "1. Imputa valores faltantes con la categoría más frecuente (`SimpleImputer(strategy='most_frequent')`).  \n",
        "2. Codifica las variables con One-Hot Encoding (`OneHotEncoder`), ignorando categorías desconocidas y eliminando la primera columna para evitar multicolinealidad (`drop='first'`).  "
      ],
      "metadata": {
        "id": "NShLCR7U5plV"
      }
    },
    {
      "cell_type": "code",
      "source": [
        "categorical_pipeline = Pipeline([\n",
        "    ('imputer', SimpleImputer(strategy='most_frequent')),\n",
        "    ('encoder', OneHotEncoder(handle_unknown='ignore', drop='first'))\n",
        "])"
      ],
      "metadata": {
        "id": "nF7kFcYzGT_w"
      },
      "execution_count": 7,
      "outputs": []
    },
    {
      "cell_type": "markdown",
      "source": [
        "## Se crea un `ColumnTransformer` llamado `feature_preprocessor` que aplica:  \n",
        "- El `numeric_pipeline` a las variables numéricas.  \n",
        "- El `categorical_pipeline` a las variables categóricas.  \n",
        "Las columnas no especificadas se descartan (`remainder='drop'`).  "
      ],
      "metadata": {
        "id": "gQo3r1PH5xqY"
      }
    },
    {
      "cell_type": "code",
      "source": [
        "from sklearn.compose import ColumnTransformer\n",
        "\n",
        "feature_preprocessor = ColumnTransformer([\n",
        "    ('num', numeric_pipeline, numeric_features),\n",
        "    ('cat', categorical_pipeline, categorical_features)\n",
        "], remainder='drop')"
      ],
      "metadata": {
        "id": "jA2LFKoIGca4"
      },
      "execution_count": 8,
      "outputs": []
    },
    {
      "cell_type": "markdown",
      "source": [
        "## Se construye un pipeline completo (`complete_pipeline`) que incluye:  \n",
        "1. `cleaning`: aplica el transformador personalizado (`custom_cleaner`).  \n",
        "2. `preprocessing`: aplica el preprocesador de características (`feature_preprocessor`).  \n",
        "3. `classifier`: entrena un modelo `RandomForestClassifier`.  \n",
        "\n",
        "Finalmente, se imprime la estructura completa del pipeline."
      ],
      "metadata": {
        "id": "t-kQiduI6Byt"
      }
    },
    {
      "cell_type": "code",
      "source": [
        "from sklearn.ensemble import RandomForestClassifier\n",
        "\n",
        "complete_pipeline = Pipeline([\n",
        "    ('cleaning', custom_cleaner),\n",
        "    ('preprocessing', feature_preprocessor),\n",
        "    ('classifier', RandomForestClassifier())\n",
        "])\n",
        "\n",
        "print(complete_pipeline)"
      ],
      "metadata": {
        "colab": {
          "base_uri": "https://localhost:8080/"
        },
        "id": "MOdisrrHH1OB",
        "outputId": "e08d5283-9f7e-4b11-ec9e-c4101f87d286"
      },
      "execution_count": 9,
      "outputs": [
        {
          "output_type": "stream",
          "name": "stdout",
          "text": [
            "Pipeline(steps=[('cleaning', CustomDataCleaner()),\n",
            "                ('preprocessing',\n",
            "                 ColumnTransformer(transformers=[('num',\n",
            "                                                  Pipeline(steps=[('imputer',\n",
            "                                                                   SimpleImputer()),\n",
            "                                                                  ('scaler',\n",
            "                                                                   StandardScaler())]),\n",
            "                                                  ['sepal_length',\n",
            "                                                   'sepal_width',\n",
            "                                                   'petal_length',\n",
            "                                                   'petal_width']),\n",
            "                                                 ('cat',\n",
            "                                                  Pipeline(steps=[('imputer',\n",
            "                                                                   SimpleImputer(strategy='most_frequent')),\n",
            "                                                                  ('encoder',\n",
            "                                                                   OneHotEncoder(drop='first',\n",
            "                                                                                 handle_unknown='ignore'))]),\n",
            "                                                  ['species'])])),\n",
            "                ('classifier', RandomForestClassifier())])\n"
          ]
        }
      ]
    },
    {
      "cell_type": "markdown",
      "source": [
        "## Se crea una copia del DataFrame (`df_temp`).  \n",
        "- `X_raw`: contiene todas las columnas (por ahora).\n",
        "- `y_raw`: contiene la columna objetivo `Species`.  "
      ],
      "metadata": {
        "id": "ZZ16YQ1c6Qn9"
      }
    },
    {
      "cell_type": "code",
      "source": [
        "df_temp = df.copy()\n",
        "X_raw = df_temp.drop(columns=[])\n",
        "y_raw = df_temp['Species']"
      ],
      "metadata": {
        "id": "2TlCzMyrIhjy"
      },
      "execution_count": 10,
      "outputs": []
    },
    {
      "cell_type": "markdown",
      "source": [
        "## Se imprimen las dimensiones y los nombres de columnas de `X_raw` para verificar la estructura inicial de los datos."
      ],
      "metadata": {
        "id": "Y-C2ri6j6nbT"
      }
    },
    {
      "cell_type": "code",
      "source": [
        "print(f\"\\nDatos raw X shape: {X_raw.shape}\")\n",
        "print(f\"Columnas X: {X_raw.columns.tolist()}\")"
      ],
      "metadata": {
        "colab": {
          "base_uri": "https://localhost:8080/"
        },
        "id": "fH6_nATxIqGY",
        "outputId": "ded4cdb5-67a9-4bc1-e9da-42c7e99e2192"
      },
      "execution_count": 11,
      "outputs": [
        {
          "output_type": "stream",
          "name": "stdout",
          "text": [
            "\n",
            "Datos raw X shape: (150, 6)\n",
            "Columnas X: ['Unnamed: 0', 'Sepal.Length', 'Sepal.Width', 'Petal.Length', 'Petal.Width', 'Species']\n"
          ]
        }
      ]
    },
    {
      "cell_type": "markdown",
      "source": [
        "## Conversión de clases categóricas en valores numéricos.\n",
        "Se aplica `LabelEncoder` sobre la variable objetivo (`y_raw`) para convertir las clases categóricas en valores numéricos.  \n",
        "Además, se muestran las clases detectadas y una muestra de la codificación resultante.  "
      ],
      "metadata": {
        "id": "xdJWiZJU6uxd"
      }
    },
    {
      "cell_type": "code",
      "source": [
        "le_target = LabelEncoder()\n",
        "y_encoded = le_target.fit_transform(y_raw)\n",
        "print(f\"Clases objetivo: {le_target.classes_}\")\n",
        "print(f\"y_encoded: {y_encoded[:10]}\")"
      ],
      "metadata": {
        "colab": {
          "base_uri": "https://localhost:8080/"
        },
        "id": "ktQXLUpyJA6w",
        "outputId": "65888d39-383e-4b2d-c86e-90b279a4b95d"
      },
      "execution_count": 12,
      "outputs": [
        {
          "output_type": "stream",
          "name": "stdout",
          "text": [
            "Clases objetivo: ['SETOSA' 'Setosa' 'VERSICOLOR' 'VIRGINICA' 'Versicolor' 'setosa'\n",
            " 'versicolor' 'virginica']\n",
            "y_encoded: [1 5 5 5 5 5 5 0 5 5]\n"
          ]
        }
      ]
    },
    {
      "cell_type": "markdown",
      "source": [
        "## Se divide el dataset en entrenamiento y prueba con `train_test_split`:  \n",
        "- 80% de los datos para entrenamiento.  \n",
        "- 20% de los datos para prueba.  \n",
        "También se imprimen las dimensiones de cada conjunto."
      ],
      "metadata": {
        "id": "a2e1A3FH61sS"
      }
    },
    {
      "cell_type": "code",
      "source": [
        "from sklearn.model_selection import train_test_split\n",
        "\n",
        "X_train, X_test, y_train, y_test = train_test_split(\n",
        "    X_raw, y_encoded, test_size=0.2, random_state=42\n",
        ")\n",
        "\n",
        "print(f\"\\nTamaño entrenamiento: {X_train.shape}\")\n",
        "print(f\"Tamaño prueba: {X_test.shape}\")"
      ],
      "metadata": {
        "colab": {
          "base_uri": "https://localhost:8080/"
        },
        "id": "z0rYB0BgM_nv",
        "outputId": "125ff0c7-bd2b-4499-d9f8-024f512772d4"
      },
      "execution_count": 13,
      "outputs": [
        {
          "output_type": "stream",
          "name": "stdout",
          "text": [
            "\n",
            "Tamaño entrenamiento: (120, 6)\n",
            "Tamaño prueba: (30, 6)\n"
          ]
        }
      ]
    },
    {
      "cell_type": "markdown",
      "source": [
        "## Entrenamiento del modelo.\n",
        "Se entrena el pipeline completo con los datos de entrenamiento (`X_train`, `y_train`).  \n",
        "Esto ajusta el modelo para que aprenda patrones de los datos.\n",
        "\n"
      ],
      "metadata": {
        "id": "1ik2Als37kFp"
      }
    },
    {
      "cell_type": "code",
      "source": [
        "complete_pipeline.fit(X_train, y_train)\n",
        "print(\"¡Entrenamiento completado!\")"
      ],
      "metadata": {
        "id": "Kl59b8PVIzNI",
        "colab": {
          "base_uri": "https://localhost:8080/"
        },
        "outputId": "b6fb5e34-926b-4609-d9cb-0bf8f9d9a6d4"
      },
      "execution_count": 14,
      "outputs": [
        {
          "output_type": "stream",
          "name": "stdout",
          "text": [
            "¡Entrenamiento completado!\n"
          ]
        }
      ]
    },
    {
      "cell_type": "markdown",
      "source": [
        "## Evauluación del modelo.\n",
        "Se mide la exactitud del modelo en los datos de entrenamiento y de prueba.  \n",
        "Sirve para verificar qué tan bien aprendió y si generaliza correctamente."
      ],
      "metadata": {
        "id": "kBVR7TEG8J8R"
      }
    },
    {
      "cell_type": "code",
      "source": [
        "train_score = complete_pipeline.score(X_train, y_train)\n",
        "test_score = complete_pipeline.score(X_test, y_test)\n",
        "\n",
        "print(f\"Exactitud entrenamiento: {train_score:.4f}\")\n",
        "print(f\"Exactitud prueba: {test_score:.4f}\")"
      ],
      "metadata": {
        "colab": {
          "base_uri": "https://localhost:8080/"
        },
        "id": "QaCrJ3yuNLTv",
        "outputId": "58663913-9d60-49df-9c6e-a9436c444aff"
      },
      "execution_count": 15,
      "outputs": [
        {
          "output_type": "stream",
          "name": "stdout",
          "text": [
            "Exactitud entrenamiento: 1.0000\n",
            "Exactitud prueba: 1.0000\n"
          ]
        }
      ]
    },
    {
      "cell_type": "markdown",
      "source": [
        "## Guardado del modelo.\n",
        "Se importa `joblib` y se guardan el pipeline entrenado y el `LabelEncoder` en archivos `.pkl`.  \n",
        "Esto permite reutilizar el modelo sin tener que reentrenarlo.  "
      ],
      "metadata": {
        "id": "8CiqIQ9N8dqX"
      }
    },
    {
      "cell_type": "code",
      "source": [
        "import joblib\n",
        "\n",
        "joblib.dump(complete_pipeline, 'pipeline_completo_personalizado.pkl')\n",
        "joblib.dump(le_target, 'label_encoder.pkl')\n",
        "print(\"Archivos guardados:\")\n",
        "print(\"- pipeline_completo_personalizado.pkl\")\n",
        "print(\"- label_encoder.pkl\")"
      ],
      "metadata": {
        "colab": {
          "base_uri": "https://localhost:8080/"
        },
        "id": "dIaNNoGENSdP",
        "outputId": "83ee5a73-dc4f-49c8-8021-1fdd5fe30798"
      },
      "execution_count": 16,
      "outputs": [
        {
          "output_type": "stream",
          "name": "stdout",
          "text": [
            "Archivos guardados:\n",
            "- pipeline_completo_personalizado.pkl\n",
            "- label_encoder.pkl\n"
          ]
        }
      ]
    }
  ]
}